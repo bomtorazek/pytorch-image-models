{
 "cells": [
  {
   "cell_type": "code",
   "execution_count": 286,
   "metadata": {},
   "outputs": [
    {
     "name": "stdout",
     "output_type": "stream",
     "text": [
      "1\n"
     ]
    },
    {
     "data": {
      "image/png": "[encoded data removed]",
      "text/plain": [
       "<Figure size 432x288 with 1 Axes>"
      ]
     },
     "metadata": {
      "needs_background": "light"
     },
     "output_type": "display_data"
    }
   ],
   "source": [
    "from os import listdir\n",
    "import os.path as osp\n",
    "import pandas as pd\n",
    "import matplotlib.pyplot as plt\n",
    "import pprint\n",
    "\n",
    "\n",
    "path = '/home/workspace/data/.train/.task153/data/train'\n",
    "path_test = '/home/workspace/data/.train/.task153/data/test'\n",
    "\n",
    "# train.csv\n",
    "# test.csv\n",
    "label_dict = {}\n",
    "\n",
    "## train\n",
    "# with open(osp.join(path, \"train.csv\"), 'r') as l:\n",
    "#     l_pd = pd.read_csv(l)\n",
    "    \n",
    "#     #ng만보기\n",
    "#     ng_list = []\n",
    "#     for index in range(len(l_pd)):\n",
    "#         image_name = l_pd['file_name'][index]\n",
    "#         label = l_pd['label'][index]\n",
    "#         if int(label) == 1:\n",
    "#             ng_list.append(int(index))\n",
    "# #     print(ng_list)\n",
    "\n",
    "#     idx = 1007\n",
    "#     img = plt.imread(osp.join(path,l_pd['file_name'][idx]))\n",
    "#     label = l_pd['label'][idx]\n",
    "#     plt.imshow(img)\n",
    "#     print(label)\n",
    "# [11, 16, 20, 21, 23, 24, 25, 32, 48, 69, 81, 84, 93, 99, 107, 113, 115, 117, 132, 155, 163, 199, 201, 210, 217, 222, 246, 254, 259, \n",
    "#  283, 285, 293, 315, 326, 329, 333, 336, 361, 368, 385, 386, 401, 410, 417, 425, 426, 427, 438, 449, 451, 461, 466, 484, 515, 521,\n",
    "#  549, 552, 555, 560, 561, 563, 572, 579, 603, 606, 640, 642, 644, 650, 652, 669, 670, 679, 685, 705, 720, 727, 740, 749, 750, 760, 775,\n",
    "#  788, 795, 807, 829, 830, 835, 838, 844, 847, 851, 857, 866, 878, 887, 895, 905, 908, 912, 927, 929, 930, 940, 970, 974, 977, 1007, 1022, \n",
    "#  1032, 1036, 1037, 1050, 1054, 1073, 1101, 1102, 1123, 1128, 1133, 1138, 1149, 1151, 1154, 1162, 1163, 1168, 1185, 1187, 1203, 1233, 1236, \n",
    "#  1240, 1260, 1264, 1268, 1269, 1270, 1280, 1283, 1285, 1289, 1296, 1301, 1306, 1323, 1328, 1330, 1336, 1341, 1342, 1355, 1378, 1384, 1385, 1400,\n",
    "#  1408, 1430, 1447, 1448, 1461, 1462, 1488, 1491, 1494, 1495, 1510, 1514, 1524, 1529, 1534, 1535, 1545, 1548, 1559, 1564, 1566, 1583, 1592, 1596,\n",
    "#  1613, 1621, 1640, 1643, 1647, 1650, 1654, 1664, 1670, 1690, 1691, 1693, 1696, 1701, 1704, 1716, 1717, 1760, 1769, 1788, 1797, 1813, 1815, 1832, \n",
    "#  1833, 1843, 1846, 1874, 1889, 1915, 1917, 1919, 1932, 1934, 1945, 1955, 1958, 1973, 1987, 1991, 2007, 2013, 2020, 2024, 2050, 2099, 2114, 2115, \n",
    "#  2121, 2123, 2124, 2142, 2149, 2169, 2171, 2186, 2191, 2192, 2195, 2206, 2207, 2212, 2217, 2233, 2237, 2238, 2242, 2245, 2263, 2267, 2281, 2306, 2318, 2319, 2320, 2323\n",
    "    \n",
    "    \n",
    "\n",
    "\n",
    "    "
   ]
  },
  {
   "cell_type": "code",
   "execution_count": 476,
   "metadata": {},
   "outputs": [
    {
     "data": {
      "image/png": "[encoded data removed]",
      "text/plain": [
       "<Figure size 432x288 with 1 Axes>"
      ]
     },
     "metadata": {
      "needs_background": "light"
     },
     "output_type": "display_data"
    }
   ],
   "source": [
    "with open(osp.join(path_test, \"test.csv\"), 'r') as l:\n",
    "    l_pd = pd.read_csv(l)\n",
    "    idx = 8784\n",
    "    img = plt.imread(osp.join(path_test,l_pd['file_name'][idx]))\n",
    "    label = l_pd['label'][idx]\n",
    "#     title = l_pd['title_name'][idx]\n",
    "#     print(l_pd[l_pd['title_name'] == title])\n",
    "    plt.imshow(img)\n",
    "#357, 474,781, 1298, 1469,  2061, 5306,6152, 8784, 9092애매\n",
    "# 403이랑 앞에거?\n",
    "\n",
    "# gt = {30:1, 57:1, 183:1, 202:0, 280:1, 311:1, 357:0, 361:1 , 403:1, 414:1, 474:0, 530:1, 538:1, 618:1, 759:1, 766:1, 781:0, \n",
    "# 855:1, 943:1 , 951:1 , 1044:1 , 1219:1, 1298:1, 1313:1, 1377:1, 1393:1, 1420:1, 1469:1, 1643:1, 1715:1, 1990:1, 2047:1, 2052:1,\n",
    "#  2061:1, 2155:1, 2160:1, 2192:1, 2223:1, 2260:1, 2334:1, 2404:1, 2451:1, 2467:1, 2490:1, 2512:1, 2672:1, 2832:1, 2838:1, 2866:1, \n",
    "# 2881:1, 2903:1, 2960:1, 3015:1, 3018:1, 3148:1, 3149:1, 3233:1, 3237:1, 3386:1, 3491:1, 3527:1, 3574:1, 3676:1, 3688:1, 3791:1, 3828:1, 3835:0, \n",
    "# 3934: 1, 3945:1, 4071:1, 4095:1, 4208:0, 4257:1, 4278:1, 4361:1, 4394:1, 4503:1, 4562:1, 4596:1, 4606:1, 4662:1, 4765:1, 4797:1, 4798:1, \n",
    "# 4800:1, 4975:1, 5047:1 , 5059:0, 5091: 1,5186:1, 5198:1, 5276:1, 5306:1, 5385:1, 5440:1, 5464:1, 5654:1, 5784:1, 5798:1, 5802:1, 5869:1, \n",
    "# 5882:1, 5939:1, 6033:1, 6055:1, 6129:1, 6152:0, 6219:0, 6396:1, 6397:1, 6404:1, 6461:1, 6515:1, 6522:1, 6551:1, 6630:1, 6661:1, 6679:1,\n",
    "# 6694:1, 6717:1, 6837:1, 6845:1, 6857:1, 6863:1, 6966:1, 7025:1, 7037:1, 7180:1, 7225:1, 7247:1, 7445:1, 7519:1, 7567:1, 7581:1, 7637:1, \n",
    "# 7742:1, 7819:0, 7824:1, 8059:1, 8146:1, 8375:1, 8400:1, 8403:1, 8472:1, 8504:1, 8507:1, 8699:1, 8735:1, 8784:1, 8810:1, 8823:1, \n",
    "# 8988:1, 9049:1, 9054:1, 9078:1, 9092:1, 9108:1}"
   ]
  },
  {
   "cell_type": "code",
   "execution_count": null,
   "metadata": {},
   "outputs": [],
   "source": [
    "\"\"\"for generating label\"\"\"\n",
    "index = 4\n",
    "a = l_pd['file_name'][index]\n",
    "b= l_pd['title_name'][index]\n",
    "c= l_pd['label'][index]\n",
    "    "
   ]
  },
  {
   "cell_type": "code",
   "execution_count": 97,
   "metadata": {},
   "outputs": [
    {
     "name": "stdout",
     "output_type": "stream",
     "text": [
      "{   '1291m': (0.05, 632),\n",
      "    '1613pm': (0.08, 720),\n",
      "    '2183m': (0.1, 668),\n",
      "    '2353m': (0.28, 943),\n",
      "    '2898m': (0.05, 689),\n",
      "    '2963m': (0.04, 608),\n",
      "    '3163m': (0.02, 581),\n",
      "    '3168m': (0.03, 631),\n",
      "    '3292m': (0.13, 673),\n",
      "    '3423m': (0.04, 635),\n",
      "    '3593m': (0.26, 976),\n",
      "    '8093m': (0.11, 734),\n",
      "    '8159m': (0.01, 593),\n",
      "    '8806m': (0.17, 769),\n",
      "    '8925m': (0.13, 770),\n",
      "    '9001': (0.02, 576),\n",
      "    '9244m': (0.12, 663),\n",
      "    '9413m': (0.19, 999),\n",
      "    '9778m': (0.02, 572),\n",
      "    '9907m': (0.01, 641)}\n"
     ]
    }
   ],
   "source": [
    "\"\"\"counting ok/ng per title\"\"\"\n",
    "\n",
    "title_counter = {}\n",
    "for title in (set((l_pd['title_name']))):\n",
    "\n",
    "    to_list = list(l_pd['label'][l_pd['title_name'] == title])\n",
    "    ok = to_list.count(0)\n",
    "    ng = to_list.count(1)\n",
    "    al = ok+ng\n",
    "    title_counter[title] = (round(ng/al,2), al)\n",
    "\n",
    "pp = pprint.PrettyPrinter(indent=4)\n",
    "pp.pprint(title_counter)\n",
    "\n",
    "# 결함이 없는 타일은 없다.\n",
    "# 타일별로 결함 비율이 다르다.\n",
    "# 타일에 대한 이미지 수가 비슷하다.\n",
    "# 많은 애는 30%까지"
   ]
  },
  {
   "cell_type": "code",
   "execution_count": 96,
   "metadata": {},
   "outputs": [
    {
     "name": "stdout",
     "output_type": "stream",
     "text": [
      "0        0\n",
      "1        0\n",
      "2        0\n",
      "3        0\n",
      "4        0\n",
      "        ..\n",
      "14068    0\n",
      "14069    0\n",
      "14070    0\n",
      "14071    1\n",
      "14072    0\n",
      "Name: label, Length: 14073, dtype: int64\n",
      "12579\n",
      "1494\n"
     ]
    }
   ],
   "source": [
    "\"\"\"for counting ok/ng\"\"\"\n",
    "label_list = list(l_pd['label'])\n",
    "print(l_pd['label'])\n",
    "print(label_list.count(0))\n",
    "print(label_list.count(1))\n"
   ]
  },
  {
   "cell_type": "code",
   "execution_count": 88,
   "metadata": {},
   "outputs": [
    {
     "name": "stdout",
     "output_type": "stream",
     "text": [
      "0.10616073331912172\n"
     ]
    }
   ],
   "source": [
    "\"\"\"training\"\"\"\n",
    "\n",
    "\"\"\"validation\"\"\"\n",
    "# 5-fold cv\n",
    "# ensemble\n",
    "\n",
    "# 68*68\n",
    "# normal: 12579 # 결함이 10%이다.\n",
    "# defect: 1494 >> need augmentation and imbalanced ?\n",
    "# title_name 20개 \n",
    "print(1494/(12579+1494)) "
   ]
  },
  {
   "cell_type": "code",
   "execution_count": null,
   "metadata": {},
   "outputs": [],
   "source": [
    "\n",
    "# 옵션 확인 >> ok\n",
    "# f1 수정 >>> ok\n",
    "# 데이터로더 수정 >> ok\n",
    "# fold 받게 수정 >> ok \n",
    "# validate.py >> ok\n",
    "# inference val 확인 >> inference에서 csv나오도록 수정 >>ok\n",
    "#  prediction도 나오게, inference 시에 dataloader 수정 >>ok\n",
    "# prediction 시 sigmoid해서 f1 최대로 만드는 threshold 찾기 >> ok\n",
    "# inference 시에 prob도 나오게, tsv >> ok\n",
    "# ensemble 대충해서 제출만해보기 >> ok\n",
    "# ensemble 코드 옮겨오기 >> ok\n",
    "\n",
    "# temperature scaling >> validation 성능 같은지 확인 >> okay\n",
    "# test에도 temperature scaling 한 것이 성능 같은지 확인 >> 같겠지\n",
    "# 10으로 나눈것 ensemble 해보기\n",
    "\n",
    "# \t\t1) Voting\n",
    "# \t\t2) Max\n",
    "# \t\t3) Averaging \n",
    "# \t\t\tSteel defect 3등: averaging. https://www.kaggle.com/ericji/discussion\n",
    "# \t\t4) sharpness sum:\n",
    "# \t\t\tSteel defect 70등  https://www.kaggle.com/c/severstal-steel-defect-detection/discussion/107716\n",
    "# \t\t5) rank ensemble\n",
    "# \t\t\tMelanoma 1등\n",
    "# \t\t\tensemble 하기 전에 모든 probability에 순위를 매김. 그담 averaging\n",
    "# \t\t6) rank averaging\n",
    "\n",
    "# 좋은 모델들 몇개가 공통적으로 예측하는 애들 제외하고 레이블링 >> 그 후 test 점수 같은지 확인\n",
    "# best ensemble 조합 찾기.\n",
    "\n",
    "# model > regnety040\n",
    "# optim > radam -4\n",
    "# regularization (batchnorm, smoothing drop 등 제외)\n",
    "# aug >> randaug\n",
    "# sch >  이 정도만 해도 오래 걸림\n",
    "# train에 patience 추가\n",
    "# imbalacned dataloader??\n",
    "# 레이블 노이즈가 있는 것 같음. >> 셋이 다른 걸 빼고 학습하는 방법도 있을 듯\n",
    "# 호성이형 블로그\n",
    "# kaggle crack 등 비슷한 것 찾아보기 \n",
    "# ensemble 전략 >> 5cv가 좋아보임. val이랑 test 둘 다 보면서 일반화 성능 보기. "
   ]
  },
  {
   "cell_type": "code",
   "execution_count": 72,
   "metadata": {},
   "outputs": [
    {
     "name": "stdout",
     "output_type": "stream",
     "text": [
      "5\n",
      "5\n"
     ]
    }
   ],
   "source": []
  }
 ],
 "metadata": {
  "kernelspec": {
   "display_name": "Python 3",
   "language": "python",
   "name": "python3"
  },
  "language_info": {
   "codemirror_mode": {
    "name": "ipython",
    "version": 3
   },
   "file_extension": ".py",
   "mimetype": "text/x-python",
   "name": "python",
   "nbconvert_exporter": "python",
   "pygments_lexer": "ipython3",
   "version": "3.8.6"
  }
 },
 "nbformat": 4,
 "nbformat_minor": 4
}
