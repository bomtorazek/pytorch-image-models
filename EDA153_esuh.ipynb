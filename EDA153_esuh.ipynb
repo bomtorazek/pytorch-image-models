{
 "cells": [
  {
   "cell_type": "code",
   "execution_count": 7,
   "metadata": {},
   "outputs": [
    {
     "name": "stdout",
     "output_type": "stream",
     "text": [
      "0\n"
     ]
    },
    {
     "data": {
      "image/png": "[encoded data removed]",
      "text/plain": [
       "<Figure size 432x288 with 1 Axes>"
      ]
     },
     "metadata": {
      "needs_background": "light"
     },
     "output_type": "display_data"
    }
   ],
   "source": [
    "from os import listdir\n",
    "import os.path as osp\n",
    "import pandas as pd\n",
    "import matplotlib.pyplot as plt\n",
    "import pprint\n",
    "\n",
    "\n",
    "path = '/home/workspace/data/.train/.task153/data/train'\n",
    "path_test = 'home/workspace/data/.train/.task153/data/test'\n",
    "\n",
    "# train.csv\n",
    "# test.csv\n",
    "label_dict = {}\n",
    "\n",
    "\n",
    "with open(osp.join(path, \"train.csv\"), 'r') as l:\n",
    "    l_pd = pd.read_csv(l)\n",
    "    index =   12061\n",
    "    ng_list = []\n",
    "    for index in range(len(l_pd)):\n",
    "        image_name = l_pd['file_name'][index]\n",
    "        label = l_pd['label'][index]\n",
    "        if int(label) == 1:\n",
    "            ng_list.append(int(index))\n",
    "#     print(ng_list)\n",
    "    idx = 113\n",
    "    img = plt.imread(osp.join(path,l_pd['file_name'][idx]))\n",
    "    plt.imshow(img)\n",
    "    print(label)\n",
    "# [11, 16, 20, 21, 23, 24, 25, 32, 48, 69, 81, 84, 93, 99, 107, 113, 115, 117, 132, 155, 163, 199, 201, 210, 217, 222, 246, 254, 259, 283, 285, 293, 315, 326, 329, 333, 336, 361, 368, 385, 386, 401, 410, 417, 425, 426, 427, 438, 449, 451, 461, 466, 484, 515, 521, 549, 552, 555, \n"
   ]
  },
  {
   "cell_type": "code",
   "execution_count": null,
   "metadata": {},
   "outputs": [],
   "source": [
    "\"\"\"for generating label\"\"\"\n",
    "index = 4\n",
    "a = l_pd['file_name'][index]\n",
    "b= l_pd['title_name'][index]\n",
    "c= l_pd['label'][index]\n",
    "    "
   ]
  },
  {
   "cell_type": "code",
   "execution_count": 97,
   "metadata": {},
   "outputs": [
    {
     "name": "stdout",
     "output_type": "stream",
     "text": [
      "{   '1291m': (0.05, 632),\n",
      "    '1613pm': (0.08, 720),\n",
      "    '2183m': (0.1, 668),\n",
      "    '2353m': (0.28, 943),\n",
      "    '2898m': (0.05, 689),\n",
      "    '2963m': (0.04, 608),\n",
      "    '3163m': (0.02, 581),\n",
      "    '3168m': (0.03, 631),\n",
      "    '3292m': (0.13, 673),\n",
      "    '3423m': (0.04, 635),\n",
      "    '3593m': (0.26, 976),\n",
      "    '8093m': (0.11, 734),\n",
      "    '8159m': (0.01, 593),\n",
      "    '8806m': (0.17, 769),\n",
      "    '8925m': (0.13, 770),\n",
      "    '9001': (0.02, 576),\n",
      "    '9244m': (0.12, 663),\n",
      "    '9413m': (0.19, 999),\n",
      "    '9778m': (0.02, 572),\n",
      "    '9907m': (0.01, 641)}\n"
     ]
    }
   ],
   "source": [
    "\"\"\"counting ok/ng per title\"\"\"\n",
    "\n",
    "title_counter = {}\n",
    "for title in (set((l_pd['title_name']))):\n",
    "\n",
    "    to_list = list(l_pd['label'][l_pd['title_name'] == title])\n",
    "    ok = to_list.count(0)\n",
    "    ng = to_list.count(1)\n",
    "    al = ok+ng\n",
    "    title_counter[title] = (round(ng/al,2), al)\n",
    "\n",
    "pp = pprint.PrettyPrinter(indent=4)\n",
    "pp.pprint(title_counter)\n",
    "\n",
    "# 결함이 없는 타일은 없다.\n",
    "# 타일별로 결함 비율이 다르다.\n",
    "# 타일에 대한 이미지 수가 비슷하다.\n",
    "# 많은 애는 30%까지"
   ]
  },
  {
   "cell_type": "code",
   "execution_count": 96,
   "metadata": {},
   "outputs": [
    {
     "name": "stdout",
     "output_type": "stream",
     "text": [
      "0        0\n",
      "1        0\n",
      "2        0\n",
      "3        0\n",
      "4        0\n",
      "        ..\n",
      "14068    0\n",
      "14069    0\n",
      "14070    0\n",
      "14071    1\n",
      "14072    0\n",
      "Name: label, Length: 14073, dtype: int64\n",
      "12579\n",
      "1494\n"
     ]
    }
   ],
   "source": [
    "\"\"\"for counting ok/ng\"\"\"\n",
    "label_list = list(l_pd['label'])\n",
    "print(l_pd['label'])\n",
    "print(label_list.count(0))\n",
    "print(label_list.count(1))\n"
   ]
  },
  {
   "cell_type": "code",
   "execution_count": 88,
   "metadata": {},
   "outputs": [
    {
     "name": "stdout",
     "output_type": "stream",
     "text": [
      "0.10616073331912172\n"
     ]
    }
   ],
   "source": [
    "\"\"\"training\"\"\"\n",
    "\n",
    "\"\"\"validation\"\"\"\n",
    "# 5-fold cv\n",
    "# ensemble\n",
    "\n",
    "# 68*68\n",
    "# normal: 12579 # 결함이 10%이다.\n",
    "# defect: 1494 >> need augmentation and imbalanced ?\n",
    "# title_name 20개 \n",
    "print(1494/(12579+1494)) "
   ]
  },
  {
   "cell_type": "code",
   "execution_count": null,
   "metadata": {},
   "outputs": [],
   "source": [
    "\n",
    "# 옵션 확인 >> ok\n",
    "# f1 수정 >>> ok\n",
    "# 데이터로더 수정 >> ok\n",
    "# fold 받게 수정 >> ok \n",
    "# validate.py >> ok\n",
    "# inference val 확인 >> inference에서 csv나오도록 수정 >>ok\n",
    "#  prediction도 나오게, inference 시에 dataloader 수정 >>ok\n",
    "# prediction 시 sigmoid해서 f1 최대로 만드는 threshold 찾기 >> ok\n",
    "# inference 시에 prob도 나오게, tsv >> ok\n",
    "\n",
    "# ensemble 대충해서 제출만해보기\n",
    "# validation 코드에 temperature scaling 하고 결과 같은지 검증 (test에도 같은지 검증)\n",
    "# train 코드에 temperature scaling 추가해서 log 추적\n",
    "# ensemble 코드 옮겨오기\n",
    "\n",
    "# model > regnety040\n",
    "# optim > radam -4\n",
    "# regularization (batchnorm, smoothing, pixel, ) \n",
    "# sch > randaug, autoaug, cutout, mixup, cutmix,  ... 이 정도만 해도 오래 걸림\n",
    "# train에 patience 추가\n",
    "# imbalacned dataloader??\n",
    "# 레이블 노이즈가 있는 것 같음. LND?\n",
    "# 호성이형 블로그\n",
    "# kaggle crack 등 비슷한 것 찾아보기 \n",
    "# ensemble 전략 >> 5cv가 좋아보임. val이랑 test 둘 다 보면서 일반화 성능 보기. 10~15개 하면 된다! temperature scaling"
   ]
  },
  {
   "cell_type": "code",
   "execution_count": 72,
   "metadata": {},
   "outputs": [
    {
     "name": "stdout",
     "output_type": "stream",
     "text": [
      "5\n",
      "5\n"
     ]
    }
   ],
   "source": []
  }
 ],
 "metadata": {
  "kernelspec": {
   "display_name": "Python 3",
   "language": "python",
   "name": "python3"
  },
  "language_info": {
   "codemirror_mode": {
    "name": "ipython",
    "version": 3
   },
   "file_extension": ".py",
   "mimetype": "text/x-python",
   "name": "python",
   "nbconvert_exporter": "python",
   "pygments_lexer": "ipython3",
   "version": "3.8.6"
  }
 },
 "nbformat": 4,
 "nbformat_minor": 4
}
