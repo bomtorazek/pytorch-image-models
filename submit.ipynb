{
 "cells": [
  {
   "cell_type": "code",
   "execution_count": 9,
   "metadata": {},
   "outputs": [
    {
     "name": "stdout",
     "output_type": "stream",
     "text": [
      "is file:  True\n"
     ]
    }
   ],
   "source": [
    "from nipa.taskSubmit import nipa_submit\n",
    "import os\n",
    "\n",
    "team_id = \"1171\"\n",
    "task_no= \"153\"\n",
    "prediction_path = '/home/workspace/user-workspace/prediction/prediction_153_2.tsv'\n",
    "# 파일 존재 여부 확인\n",
    "print(\"is file: \", os.path.isfile(prediction_path))\n",
    "\n"
   ]
  },
  {
   "cell_type": "code",
   "execution_count": 10,
   "metadata": {},
   "outputs": [
    {
     "name": "stdout",
     "output_type": "stream",
     "text": [
      "20201105101259751932_cm1P.tsv: 200\n"
     ]
    }
   ],
   "source": [
    "\n",
    "nipa_submit(team_id=team_id,\n",
    "task_no=task_no,\n",
    "result=prediction_path\n",
    ")"
   ]
  }
 ],
 "metadata": {
  "kernelspec": {
   "display_name": "Python 3",
   "language": "python",
   "name": "python3"
  },
  "language_info": {
   "codemirror_mode": {
    "name": "ipython",
    "version": 3
   },
   "file_extension": ".py",
   "mimetype": "text/x-python",
   "name": "python",
   "nbconvert_exporter": "python",
   "pygments_lexer": "ipython3",
   "version": "3.8.6"
  }
 },
 "nbformat": 4,
 "nbformat_minor": 4
}
